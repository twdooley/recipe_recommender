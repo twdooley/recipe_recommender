{
 "metadata": {
  "language_info": {
   "codemirror_mode": {
    "name": "ipython",
    "version": 3
   },
   "file_extension": ".py",
   "mimetype": "text/x-python",
   "name": "python",
   "nbconvert_exporter": "python",
   "pygments_lexer": "ipython3",
   "version": "3.8.5-final"
  },
  "orig_nbformat": 2,
  "kernelspec": {
   "name": "python3",
   "display_name": "Python 3.8.5 64-bit ('metis': conda)",
   "metadata": {
    "interpreter": {
     "hash": "6c472b8915bc419c743ebcff76dbcf6e203ef99bf90689a3fba2566158d7e07a"
    }
   }
  }
 },
 "nbformat": 4,
 "nbformat_minor": 2,
 "cells": [
  {
   "source": [
    "# Ingredient App Builder\n",
    "### Uses Cosine Similarity from vectorized ingredient lists and user input to recommend recipe\n",
    "App can be found in web_apps/ingred_app.py"
   ],
   "cell_type": "markdown",
   "metadata": {}
  },
  {
   "cell_type": "code",
   "execution_count": 3,
   "metadata": {},
   "outputs": [],
   "source": [
    "import pandas as pd\n",
    "import numpy as np\n",
    "from sklearn.feature_extraction.text import CountVectorizer, TfidfVectorizer\n",
    "from nltk.corpus import stopwords"
   ]
  },
  {
   "cell_type": "code",
   "execution_count": 5,
   "metadata": {},
   "outputs": [],
   "source": [
    "stop = stopwords.words('english')\n",
    "stop_ws = stop + ['cup', 'cups', 'tbsp', 'tsp', 'tablespoon', 'tablespoons', 'teaspoon', 'teaspoons', 'dash', 'pound', 'kg', 'kilogram', 'ounce', 'ounces', 'temperature', 'large', 'medium', 'small', \\\n",
    "    'dash', 'piece', 'slice', 'chop', 'julienne', 'blend', 'mix', 'knead', 'preferably', 'coarsely', 'fresh', 'freshly', 'I', 'have']"
   ]
  },
  {
   "cell_type": "code",
   "execution_count": 6,
   "metadata": {},
   "outputs": [],
   "source": [
    "user_in = input(\"Enter string: \")"
   ]
  },
  {
   "cell_type": "code",
   "execution_count": 9,
   "metadata": {},
   "outputs": [],
   "source": [
    "df = pd.read_csv('ingred.csv')"
   ]
  },
  {
   "cell_type": "code",
   "execution_count": 5,
   "metadata": {},
   "outputs": [
    {
     "output_type": "execute_result",
     "data": {
      "text/plain": [
       "      Unnamed: 0                                           name  \\\n",
       "0              0                                  Nan-e Berenji   \n",
       "1              1                          Ginger-Citrus Cookies   \n",
       "2              2             Tequila, Beer, and Citrus Cocktail   \n",
       "3              3         Corn and Crab Beignets With Yaji Aioli   \n",
       "4              4                                  Swedish Glögg   \n",
       "...          ...                                            ...   \n",
       "4984        4984                                Vegetable Stock   \n",
       "4985        4985  Roast Beef Tenderloin  with Horseradish Cream   \n",
       "4986        4986          Roasted Fresh Ham with Citrus and Rye   \n",
       "4987        4987               Nutmeg and Black Pepper Popovers   \n",
       "4988        4988                                Shrimp Cocktail   \n",
       "\n",
       "                   date                  servs  \\\n",
       "0      December 1, 2020         Makes about 50   \n",
       "1      December 1, 2020         Makes about 28   \n",
       "2      December 1, 2020                Makes 1   \n",
       "3      December 1, 2020        8 - 10 Servings   \n",
       "4      December 1, 2020  Makes about 1½ quarts   \n",
       "...                 ...                    ...   \n",
       "4984  December 10, 2012               2 quarts   \n",
       "4985  November 13, 2012       8 to 10 Servings   \n",
       "4986  November 13, 2012           14  Servings   \n",
       "4987  November 13, 2012     Makes 12  Servings   \n",
       "4988  November 13, 2012       8 to 10 Servings   \n",
       "\n",
       "                                                   ings  \\\n",
       "0     ['tsp. baking powder', 'tsp. ground cardamom',...   \n",
       "1     ['cups 1\"–2\"-wide strips lemon, lime, orange, ...   \n",
       "2     ['oz. fresh grapefruit juice', 'oz. fresh lime...   \n",
       "3     ['cup unsalted dry-roasted peanuts', 'Tbsp. gr...   \n",
       "4     ['cinnamon sticks, broken into pieces', 'tsp. ...   \n",
       "...                                                 ...   \n",
       "4984  ['tablespoon olive oil', 'medium onions, unpee...   \n",
       "4985  ['cup plus 2 tablespoons crème fraîche or sour...   \n",
       "4986  ['12-pound fresh ham, cut from the shank end',...   \n",
       "4987  ['cups all-purpose flour', 'tablespoons finely...   \n",
       "4988  ['lemon, halved', 'onion, quartered', 'whole b...   \n",
       "\n",
       "                                                img_url  \n",
       "0     https://assets.bonappetit.com/photos/5fb7e3af5...  \n",
       "1     https://assets.bonappetit.com/photos/5fb7e3ae5...  \n",
       "2     https://assets.bonappetit.com/photos/5fb7e3b35...  \n",
       "3     https://assets.bonappetit.com/photos/5fbc26d57...  \n",
       "4     https://assets.bonappetit.com/photos/5fbd604d2...  \n",
       "...                                                 ...  \n",
       "4984  https://assets.bonappetit.com/photos/57ae399f5...  \n",
       "4985  https://assets.bonappetit.com/photos/57ae3cda5...  \n",
       "4986  https://assets.bonappetit.com/photos/57ae3cfff...  \n",
       "4987  https://assets.bonappetit.com/photos/57ae3c8bf...  \n",
       "4988  https://assets.bonappetit.com/photos/57ae160bf...  \n",
       "\n",
       "[4989 rows x 6 columns]"
      ],
      "text/html": "<div>\n<style scoped>\n    .dataframe tbody tr th:only-of-type {\n        vertical-align: middle;\n    }\n\n    .dataframe tbody tr th {\n        vertical-align: top;\n    }\n\n    .dataframe thead th {\n        text-align: right;\n    }\n</style>\n<table border=\"1\" class=\"dataframe\">\n  <thead>\n    <tr style=\"text-align: right;\">\n      <th></th>\n      <th>Unnamed: 0</th>\n      <th>name</th>\n      <th>date</th>\n      <th>servs</th>\n      <th>ings</th>\n      <th>img_url</th>\n    </tr>\n  </thead>\n  <tbody>\n    <tr>\n      <th>0</th>\n      <td>0</td>\n      <td>Nan-e Berenji</td>\n      <td>December 1, 2020</td>\n      <td>Makes about 50</td>\n      <td>['tsp. baking powder', 'tsp. ground cardamom',...</td>\n      <td>https://assets.bonappetit.com/photos/5fb7e3af5...</td>\n    </tr>\n    <tr>\n      <th>1</th>\n      <td>1</td>\n      <td>Ginger-Citrus Cookies</td>\n      <td>December 1, 2020</td>\n      <td>Makes about 28</td>\n      <td>['cups 1\"–2\"-wide strips lemon, lime, orange, ...</td>\n      <td>https://assets.bonappetit.com/photos/5fb7e3ae5...</td>\n    </tr>\n    <tr>\n      <th>2</th>\n      <td>2</td>\n      <td>Tequila, Beer, and Citrus Cocktail</td>\n      <td>December 1, 2020</td>\n      <td>Makes 1</td>\n      <td>['oz. fresh grapefruit juice', 'oz. fresh lime...</td>\n      <td>https://assets.bonappetit.com/photos/5fb7e3b35...</td>\n    </tr>\n    <tr>\n      <th>3</th>\n      <td>3</td>\n      <td>Corn and Crab Beignets With Yaji Aioli</td>\n      <td>December 1, 2020</td>\n      <td>8 - 10 Servings</td>\n      <td>['cup unsalted dry-roasted peanuts', 'Tbsp. gr...</td>\n      <td>https://assets.bonappetit.com/photos/5fbc26d57...</td>\n    </tr>\n    <tr>\n      <th>4</th>\n      <td>4</td>\n      <td>Swedish Glögg</td>\n      <td>December 1, 2020</td>\n      <td>Makes about 1½ quarts</td>\n      <td>['cinnamon sticks, broken into pieces', 'tsp. ...</td>\n      <td>https://assets.bonappetit.com/photos/5fbd604d2...</td>\n    </tr>\n    <tr>\n      <th>...</th>\n      <td>...</td>\n      <td>...</td>\n      <td>...</td>\n      <td>...</td>\n      <td>...</td>\n      <td>...</td>\n    </tr>\n    <tr>\n      <th>4984</th>\n      <td>4984</td>\n      <td>Vegetable Stock</td>\n      <td>December 10, 2012</td>\n      <td>2 quarts</td>\n      <td>['tablespoon olive oil', 'medium onions, unpee...</td>\n      <td>https://assets.bonappetit.com/photos/57ae399f5...</td>\n    </tr>\n    <tr>\n      <th>4985</th>\n      <td>4985</td>\n      <td>Roast Beef Tenderloin  with Horseradish Cream</td>\n      <td>November 13, 2012</td>\n      <td>8 to 10 Servings</td>\n      <td>['cup plus 2 tablespoons crème fraîche or sour...</td>\n      <td>https://assets.bonappetit.com/photos/57ae3cda5...</td>\n    </tr>\n    <tr>\n      <th>4986</th>\n      <td>4986</td>\n      <td>Roasted Fresh Ham with Citrus and Rye</td>\n      <td>November 13, 2012</td>\n      <td>14  Servings</td>\n      <td>['12-pound fresh ham, cut from the shank end',...</td>\n      <td>https://assets.bonappetit.com/photos/57ae3cfff...</td>\n    </tr>\n    <tr>\n      <th>4987</th>\n      <td>4987</td>\n      <td>Nutmeg and Black Pepper Popovers</td>\n      <td>November 13, 2012</td>\n      <td>Makes 12  Servings</td>\n      <td>['cups all-purpose flour', 'tablespoons finely...</td>\n      <td>https://assets.bonappetit.com/photos/57ae3c8bf...</td>\n    </tr>\n    <tr>\n      <th>4988</th>\n      <td>4988</td>\n      <td>Shrimp Cocktail</td>\n      <td>November 13, 2012</td>\n      <td>8 to 10 Servings</td>\n      <td>['lemon, halved', 'onion, quartered', 'whole b...</td>\n      <td>https://assets.bonappetit.com/photos/57ae160bf...</td>\n    </tr>\n  </tbody>\n</table>\n<p>4989 rows × 6 columns</p>\n</div>"
     },
     "metadata": {},
     "execution_count": 5
    }
   ],
   "source": [
    "df"
   ]
  },
  {
   "cell_type": "code",
   "execution_count": 6,
   "metadata": {},
   "outputs": [],
   "source": [
    "#df = df.append({'name': 'user', 'ings':user_in}, ignore_index= True)"
   ]
  },
  {
   "cell_type": "code",
   "execution_count": 6,
   "metadata": {},
   "outputs": [
    {
     "output_type": "execute_result",
     "data": {
      "text/plain": [
       "str"
      ]
     },
     "metadata": {},
     "execution_count": 6
    }
   ],
   "source": [
    "type(user_in)"
   ]
  },
  {
   "cell_type": "code",
   "execution_count": 10,
   "metadata": {},
   "outputs": [
    {
     "output_type": "stream",
     "name": "stdout",
     "text": [
      "(4989, 1119)\n"
     ]
    }
   ],
   "source": [
    "tf_vectorizer = CountVectorizer(strip_accents = 'unicode',\n",
    "                                stop_words = stop_ws,\n",
    "                                lowercase = True,\n",
    "                                token_pattern = r'\\b[a-zA-Z]{3,}\\b',\n",
    "                                ngram_range = (1,3),\n",
    "                                max_df = 0.8, \n",
    "                                min_df = 0.01)\n",
    "dtm_tf = tf_vectorizer.fit_transform(df.ings)\n",
    "print(dtm_tf.shape)"
   ]
  },
  {
   "cell_type": "code",
   "execution_count": 11,
   "metadata": {},
   "outputs": [
    {
     "output_type": "execute_result",
     "data": {
      "text/plain": [
       "      active  active dry  active dry yeast  agave  aleppo  aleppo style  \\\n",
       "0          0           0                 0      0       0             0   \n",
       "1          0           0                 0      0       0             0   \n",
       "2          0           0                 0      1       0             0   \n",
       "3          0           0                 0      0       0             0   \n",
       "4          0           0                 0      0       0             0   \n",
       "...      ...         ...               ...    ...     ...           ...   \n",
       "4984       0           0                 0      0       0             0   \n",
       "4985       0           0                 0      0       0             0   \n",
       "4986       0           0                 0      0       0             0   \n",
       "4987       0           0                 0      0       0             0   \n",
       "4988       0           0                 0      0       0             0   \n",
       "\n",
       "      aleppo style pepper  allspice  almond  almonds  ...  yellow  yogurt  \\\n",
       "0                       0         0       0        0  ...       0       0   \n",
       "1                       0         0       0        0  ...       0       0   \n",
       "2                       0         0       0        0  ...       0       0   \n",
       "3                       0         0       0        0  ...       0       0   \n",
       "4                       0         0       0        1  ...       0       0   \n",
       "...                   ...       ...     ...      ...  ...     ...     ...   \n",
       "4984                    0         0       0        0  ...       0       0   \n",
       "4985                    0         0       0        0  ...       0       0   \n",
       "4986                    0         0       0        0  ...       0       0   \n",
       "4987                    0         0       0        0  ...       0       0   \n",
       "4988                    0         0       0        0  ...       0       0   \n",
       "\n",
       "      yolk  yolks  yukon  yukon gold  yukon gold potatoes  zest  zest lemon  \\\n",
       "0        1      0      0           0                    0     0           0   \n",
       "1        0      0      0           0                    0     1           0   \n",
       "2        0      0      0           0                    0     0           0   \n",
       "3        0      1      0           0                    0     0           0   \n",
       "4        0      0      0           0                    0     1           0   \n",
       "...    ...    ...    ...         ...                  ...   ...         ...   \n",
       "4984     0      0      0           0                    0     0           0   \n",
       "4985     0      0      0           0                    0     0           0   \n",
       "4986     0      0      0           0                    0     1           0   \n",
       "4987     0      0      0           0                    0     0           0   \n",
       "4988     0      0      0           0                    0     0           0   \n",
       "\n",
       "      zest lemon juice  \n",
       "0                    0  \n",
       "1                    0  \n",
       "2                    0  \n",
       "3                    0  \n",
       "4                    0  \n",
       "...                ...  \n",
       "4984                 0  \n",
       "4985                 0  \n",
       "4986                 0  \n",
       "4987                 0  \n",
       "4988                 0  \n",
       "\n",
       "[4989 rows x 1119 columns]"
      ],
      "text/html": "<div>\n<style scoped>\n    .dataframe tbody tr th:only-of-type {\n        vertical-align: middle;\n    }\n\n    .dataframe tbody tr th {\n        vertical-align: top;\n    }\n\n    .dataframe thead th {\n        text-align: right;\n    }\n</style>\n<table border=\"1\" class=\"dataframe\">\n  <thead>\n    <tr style=\"text-align: right;\">\n      <th></th>\n      <th>active</th>\n      <th>active dry</th>\n      <th>active dry yeast</th>\n      <th>agave</th>\n      <th>aleppo</th>\n      <th>aleppo style</th>\n      <th>aleppo style pepper</th>\n      <th>allspice</th>\n      <th>almond</th>\n      <th>almonds</th>\n      <th>...</th>\n      <th>yellow</th>\n      <th>yogurt</th>\n      <th>yolk</th>\n      <th>yolks</th>\n      <th>yukon</th>\n      <th>yukon gold</th>\n      <th>yukon gold potatoes</th>\n      <th>zest</th>\n      <th>zest lemon</th>\n      <th>zest lemon juice</th>\n    </tr>\n  </thead>\n  <tbody>\n    <tr>\n      <th>0</th>\n      <td>0</td>\n      <td>0</td>\n      <td>0</td>\n      <td>0</td>\n      <td>0</td>\n      <td>0</td>\n      <td>0</td>\n      <td>0</td>\n      <td>0</td>\n      <td>0</td>\n      <td>...</td>\n      <td>0</td>\n      <td>0</td>\n      <td>1</td>\n      <td>0</td>\n      <td>0</td>\n      <td>0</td>\n      <td>0</td>\n      <td>0</td>\n      <td>0</td>\n      <td>0</td>\n    </tr>\n    <tr>\n      <th>1</th>\n      <td>0</td>\n      <td>0</td>\n      <td>0</td>\n      <td>0</td>\n      <td>0</td>\n      <td>0</td>\n      <td>0</td>\n      <td>0</td>\n      <td>0</td>\n      <td>0</td>\n      <td>...</td>\n      <td>0</td>\n      <td>0</td>\n      <td>0</td>\n      <td>0</td>\n      <td>0</td>\n      <td>0</td>\n      <td>0</td>\n      <td>1</td>\n      <td>0</td>\n      <td>0</td>\n    </tr>\n    <tr>\n      <th>2</th>\n      <td>0</td>\n      <td>0</td>\n      <td>0</td>\n      <td>1</td>\n      <td>0</td>\n      <td>0</td>\n      <td>0</td>\n      <td>0</td>\n      <td>0</td>\n      <td>0</td>\n      <td>...</td>\n      <td>0</td>\n      <td>0</td>\n      <td>0</td>\n      <td>0</td>\n      <td>0</td>\n      <td>0</td>\n      <td>0</td>\n      <td>0</td>\n      <td>0</td>\n      <td>0</td>\n    </tr>\n    <tr>\n      <th>3</th>\n      <td>0</td>\n      <td>0</td>\n      <td>0</td>\n      <td>0</td>\n      <td>0</td>\n      <td>0</td>\n      <td>0</td>\n      <td>0</td>\n      <td>0</td>\n      <td>0</td>\n      <td>...</td>\n      <td>0</td>\n      <td>0</td>\n      <td>0</td>\n      <td>1</td>\n      <td>0</td>\n      <td>0</td>\n      <td>0</td>\n      <td>0</td>\n      <td>0</td>\n      <td>0</td>\n    </tr>\n    <tr>\n      <th>4</th>\n      <td>0</td>\n      <td>0</td>\n      <td>0</td>\n      <td>0</td>\n      <td>0</td>\n      <td>0</td>\n      <td>0</td>\n      <td>0</td>\n      <td>0</td>\n      <td>1</td>\n      <td>...</td>\n      <td>0</td>\n      <td>0</td>\n      <td>0</td>\n      <td>0</td>\n      <td>0</td>\n      <td>0</td>\n      <td>0</td>\n      <td>1</td>\n      <td>0</td>\n      <td>0</td>\n    </tr>\n    <tr>\n      <th>...</th>\n      <td>...</td>\n      <td>...</td>\n      <td>...</td>\n      <td>...</td>\n      <td>...</td>\n      <td>...</td>\n      <td>...</td>\n      <td>...</td>\n      <td>...</td>\n      <td>...</td>\n      <td>...</td>\n      <td>...</td>\n      <td>...</td>\n      <td>...</td>\n      <td>...</td>\n      <td>...</td>\n      <td>...</td>\n      <td>...</td>\n      <td>...</td>\n      <td>...</td>\n      <td>...</td>\n    </tr>\n    <tr>\n      <th>4984</th>\n      <td>0</td>\n      <td>0</td>\n      <td>0</td>\n      <td>0</td>\n      <td>0</td>\n      <td>0</td>\n      <td>0</td>\n      <td>0</td>\n      <td>0</td>\n      <td>0</td>\n      <td>...</td>\n      <td>0</td>\n      <td>0</td>\n      <td>0</td>\n      <td>0</td>\n      <td>0</td>\n      <td>0</td>\n      <td>0</td>\n      <td>0</td>\n      <td>0</td>\n      <td>0</td>\n    </tr>\n    <tr>\n      <th>4985</th>\n      <td>0</td>\n      <td>0</td>\n      <td>0</td>\n      <td>0</td>\n      <td>0</td>\n      <td>0</td>\n      <td>0</td>\n      <td>0</td>\n      <td>0</td>\n      <td>0</td>\n      <td>...</td>\n      <td>0</td>\n      <td>0</td>\n      <td>0</td>\n      <td>0</td>\n      <td>0</td>\n      <td>0</td>\n      <td>0</td>\n      <td>0</td>\n      <td>0</td>\n      <td>0</td>\n    </tr>\n    <tr>\n      <th>4986</th>\n      <td>0</td>\n      <td>0</td>\n      <td>0</td>\n      <td>0</td>\n      <td>0</td>\n      <td>0</td>\n      <td>0</td>\n      <td>0</td>\n      <td>0</td>\n      <td>0</td>\n      <td>...</td>\n      <td>0</td>\n      <td>0</td>\n      <td>0</td>\n      <td>0</td>\n      <td>0</td>\n      <td>0</td>\n      <td>0</td>\n      <td>1</td>\n      <td>0</td>\n      <td>0</td>\n    </tr>\n    <tr>\n      <th>4987</th>\n      <td>0</td>\n      <td>0</td>\n      <td>0</td>\n      <td>0</td>\n      <td>0</td>\n      <td>0</td>\n      <td>0</td>\n      <td>0</td>\n      <td>0</td>\n      <td>0</td>\n      <td>...</td>\n      <td>0</td>\n      <td>0</td>\n      <td>0</td>\n      <td>0</td>\n      <td>0</td>\n      <td>0</td>\n      <td>0</td>\n      <td>0</td>\n      <td>0</td>\n      <td>0</td>\n    </tr>\n    <tr>\n      <th>4988</th>\n      <td>0</td>\n      <td>0</td>\n      <td>0</td>\n      <td>0</td>\n      <td>0</td>\n      <td>0</td>\n      <td>0</td>\n      <td>0</td>\n      <td>0</td>\n      <td>0</td>\n      <td>...</td>\n      <td>0</td>\n      <td>0</td>\n      <td>0</td>\n      <td>0</td>\n      <td>0</td>\n      <td>0</td>\n      <td>0</td>\n      <td>0</td>\n      <td>0</td>\n      <td>0</td>\n    </tr>\n  </tbody>\n</table>\n<p>4989 rows × 1119 columns</p>\n</div>"
     },
     "metadata": {},
     "execution_count": 11
    }
   ],
   "source": [
    "column_names = tf_vectorizer.get_feature_names()\n",
    "vectors = pd.DataFrame.sparse.from_spmatrix(dtm_tf)\n",
    "vectors.columns=column_names\n",
    "vectors"
   ]
  },
  {
   "cell_type": "code",
   "execution_count": 23,
   "metadata": {},
   "outputs": [],
   "source": [
    "import pickle\n",
    "with open('dtm_tf.pickle', 'wb') as to_write:\n",
    "    pickle.dump(dtm_tf, to_write)\n",
    "with open('tf_vec.pickle', 'wb') as to_write:\n",
    "    pickle.dump(tf_vectorizer, to_write)"
   ]
  },
  {
   "cell_type": "code",
   "execution_count": 117,
   "metadata": {},
   "outputs": [],
   "source": [
    "user_in = input(\"Enter string: \")"
   ]
  },
  {
   "cell_type": "code",
   "execution_count": 12,
   "metadata": {},
   "outputs": [],
   "source": [
    "vec_user = tf_vectorizer.transform([user_in])"
   ]
  },
  {
   "cell_type": "code",
   "execution_count": 72,
   "metadata": {},
   "outputs": [
    {
     "output_type": "execute_result",
     "data": {
      "text/plain": [
       "array([[0, 0, 0, ..., 0, 0, 0]])"
      ]
     },
     "metadata": {},
     "execution_count": 72
    }
   ],
   "source": [
    "vec_user.toarray()"
   ]
  },
  {
   "cell_type": "code",
   "execution_count": 13,
   "metadata": {},
   "outputs": [],
   "source": [
    "from sklearn.metrics.pairwise import cosine_similarity"
   ]
  },
  {
   "source": [
    "## Sort desc. cosine similarity scores"
   ],
   "cell_type": "markdown",
   "metadata": {}
  },
  {
   "cell_type": "code",
   "execution_count": 14,
   "metadata": {},
   "outputs": [
    {
     "output_type": "execute_result",
     "data": {
      "text/plain": [
       "array([0.31622777, 0.2773501 , 0.27216553, ..., 0.        , 0.        ,\n",
       "       0.        ])"
      ]
     },
     "metadata": {},
     "execution_count": 14
    }
   ],
   "source": [
    "-np.sort(-cosine_similarity(vec_user, dtm_tf))[0]"
   ]
  },
  {
   "cell_type": "code",
   "execution_count": 15,
   "metadata": {},
   "outputs": [
    {
     "output_type": "execute_result",
     "data": {
      "text/plain": [
       "(Unnamed: 0                                                 2455\n",
       " name                                    Whole Corn on the Grill\n",
       " date                                               May 17, 2016\n",
       " servs                                               4  Servings\n",
       " ings          ['ears of corn, in husk', 'Charred Spring Onio...\n",
       " img_url       https://assets.bonappetit.com/photos/57acbaf31...\n",
       " Name: 2455, dtype: object,\n",
       " 2455)"
      ]
     },
     "metadata": {},
     "execution_count": 15
    }
   ],
   "source": [
    "df.iloc[cosine_similarity(vec_user, dtm_tf).argmax()], cosine_similarity(vec_user, dtm_tf).argmax()"
   ]
  },
  {
   "cell_type": "code",
   "execution_count": 17,
   "metadata": {
    "tags": []
   },
   "outputs": [
    {
     "output_type": "stream",
     "name": "stdout",
     "text": [
      "Unnamed: 0                                                 2455\nname                                    Whole Corn on the Grill\ndate                                               May 17, 2016\nservs                                               4  Servings\nings          ['ears of corn, in husk', 'Charred Spring Onio...\nimg_url       https://assets.bonappetit.com/photos/57acbaf31...\nName: 2455, dtype: object\n0.3162277660168379\nUnnamed: 0                                                 2380\nname                                             Miso Corn Soup\ndate                                              June 21, 2016\nservs                                               4  Servings\nings          ['ears of corn', 'tablespoons butter', 'large ...\nimg_url       https://assets.bonappetit.com/photos/57aca8db5...\nName: 2380, dtype: object\n0.2773500981126146\nUnnamed: 0                                                 3339\nname                                     Ludo Lefebvre's Omelet\ndate                                             March 24, 2015\nservs                                         Makes 1  Servings\nings          ['large eggs', 'tablespoons unsalted European-...\nimg_url       https://assets.bonappetit.com/photos/57acf3e21...\nName: 3339, dtype: object\n0.2721655269759087\nUnnamed: 0                                                 3235\nname               Pan-Grilled Black Bass with Flavored Butters\ndate                                             April 21, 2015\nservs                                               4  Servings\nings          ['pound broccolini or broccoli rabe, trimmed',...\nimg_url       https://assets.bonappetit.com/photos/57acec5e1...\nName: 3235, dtype: object\n0.2696799449852968\nUnnamed: 0                                                  398\nname                                                 Okra Gumbo\ndate                                           November 6, 2019\nservs                                                6 servings\nings          ['Tbsp. paprika', 'tsp. kosher salt', 'tsp. fr...\nimg_url       https://assets.bonappetit.com/photos/5dbc2bf16...\nName: 398, dtype: object\n0.2684624220856097\nUnnamed: 0                                                 3807\nname                                 Tomato Grilled-Cheese Soup\ndate                                              July 23, 2014\nservs                                               8  Servings\nings          ['tablespoons (½ stick) unsalted butter, plus ...\nimg_url       https://assets.bonappetit.com/photos/57ad37fb5...\nName: 3807, dtype: object\n0.2578553115646983\nUnnamed: 0                                                 2478\nname                                 Poutine on the Ritz Burger\ndate                                               May 16, 2016\nservs                                                   Makes 4\nings          ['ounce dried porcini mushrooms', 'tablespoons...\nimg_url       https://assets.bonappetit.com/photos/57bf2be24...\nName: 2478, dtype: object\n0.2560737598657919\nUnnamed: 0                                                 1890\nname                                                 Pocho Taco\ndate                                          February 14, 2017\nservs                                                8 servings\nings          ['tablespoon vegetable oil', 'pound ground bee...\nimg_url       https://assets.bonappetit.com/photos/589905eb8...\nName: 1890, dtype: object\n0.25318484177091666\nUnnamed: 0                                                 2582\nname                      Wilted Greens Soup with Crème Fraîche\ndate                                             March 22, 2016\nservs                                               4  Servings\nings          ['tablespoons (½ stick) unsalted butter', 'oni...\nimg_url       https://assets.bonappetit.com/photos/57acc4745...\nName: 2582, dtype: object\n0.24828176658071038\nUnnamed: 0                                                  550\nname                          Sour Cream and Onion Potato Salad\ndate                                              June 23, 2019\nservs                                                4 servings\nings          ['lb. baby Yukon Gold potatoes', 'cup kosher s...\nimg_url       https://assets.bonappetit.com/photos/5d0bef917...\nName: 550, dtype: object\n0.24514516892273003\nUnnamed: 0                                                 1865\nname                                                Sloppy Joes\ndate                                              March 6, 2017\nservs                                                   Makes 4\nings          ['tablespoon olive oil', 'pound ground beef (2...\nimg_url       https://assets.bonappetit.com/photos/58b705cb2...\nName: 1865, dtype: object\n0.24333213169614376\nUnnamed: 0                                                 1308\nname                                  Easy Steak with Pan Sauce\ndate                                           December 8, 2017\nservs                                                4 servings\nings          ['½ pounds steak (sirloin, boneless ribeye, or...\nimg_url       https://assets.bonappetit.com/photos/5a2b053f5...\nName: 1308, dtype: object\n0.2425356250363329\nUnnamed: 0                                                  918\nname                       Steak Salad with Shallot Vinaigrette\ndate                                         September 16, 2018\nservs          2 servings as a big dinner or 4 as a light lunch\nings          ['1½\"-thick boneless New York strip steak (abo...\nimg_url       https://assets.bonappetit.com/photos/5b98017db...\nName: 918, dtype: object\n0.23836564731139806\nUnnamed: 0                                                 3622\nname          Roast Turkey with Sausage and Apple Stuffing a...\ndate                                           November 6, 2014\nservs                                              16  Servings\nings          ['Neck and giblets from 16- to 18-pound turkey...\nimg_url       https://assets.bonappetit.com/photos/57ad2bf0f...\nName: 3622, dtype: object\n0.23717082451262844\nUnnamed: 0                                                 4495\nname                        Farro with Wild Mushrooms and Herbs\ndate                                         September 19, 2013\nservs                                               8  Servings\nings          ['cups semi-pearled farro', 'Kosher salt', 'ta...\nimg_url       https://assets.bonappetit.com/photos/57adeec45...\nName: 4495, dtype: object\n0.23414645289542346\nUnnamed: 0                                                   83\nname                                                      Piñon\ndate                                            October 4, 2020\nservs         4garlic cloves1medium onion4ají dulce peppers ...\nings          ['garlic cloves', 'medium onion', 'ají dulce p...\nimg_url       https://assets.bonappetit.com/photos/5f77921c1...\nName: 83, dtype: object\n0.23211917272131477\nUnnamed: 0                                                 4889\nname                                             Minty Pea Soup\ndate                                              March 8, 2013\nservs                                               6  Servings\nings          ['tablespoons unsalted butter', 'medium onion,...\nimg_url       https://assets.bonappetit.com/photos/57ae1652f...\nName: 4889, dtype: object\n0.23014365447458085\nUnnamed: 0                                                 2090\nname                                           Hard Cider Gravy\ndate                                           November 9, 2016\nservs                                       Makes about 1 quart\nings          ['cup plus 2 tablespoons schmaltz (chicken fat...\nimg_url       https://assets.bonappetit.com/photos/58222585d...\nName: 2090, dtype: object\n0.22821773229381917\nUnnamed: 0                                                 4126\nname                                            Watercress Soup\ndate                                             March 18, 2014\nservs                                              10  Servings\nings          ['tablespoons (¼ stick) unsalted butter', 'med...\nimg_url       https://assets.bonappetit.com/photos/57ad50da1...\nName: 4126, dtype: object\n0.22633936510629632\nUnnamed: 0                                                 1309\nname                                  Eggs Benedict for a Crowd\ndate                                           December 8, 2017\nservs                                               12 servings\nings          ['large eggs', 'cups (2½ sticks) unsalted butt...\nimg_url       https://assets.bonappetit.com/photos/5a2961501...\nName: 1309, dtype: object\n0.22633936510629632\n[]\n"
     ]
    }
   ],
   "source": [
    "num = 20\n",
    "\n",
    "locs = cosine_similarity(vec_user, dtm_tf)#.argsort()#[::-1]\n",
    "scores = -np.sort(-cosine_similarity(vec_user, dtm_tf))[0][:num+1]\n",
    "idxs = (-locs).argsort()\n",
    "idxs = zip(idxs[0][:num], scores) \n",
    "#idxs = np.argpartition(locs, -num)[-num:]\n",
    "# idxs = locs[0][:num]\n",
    "#idxs = idxs[0][:num]\n",
    "for idx, score in idxs:\n",
    "    if score >= 0.20:\n",
    "        print(df.iloc[idx])\n",
    "        print(score)\n",
    "    else:\n",
    "        continue\n",
    "print(list(idxs))"
   ]
  },
  {
   "cell_type": "code",
   "execution_count": 67,
   "metadata": {},
   "outputs": [
    {
     "output_type": "execute_result",
     "data": {
      "text/plain": [
       "'Pretzel and Potato Chip Moon Pies'"
      ]
     },
     "metadata": {},
     "execution_count": 67
    }
   ],
   "source": [
    "test = df.iloc[9]\n",
    "test[1]"
   ]
  },
  {
   "cell_type": "code",
   "execution_count": 68,
   "metadata": {},
   "outputs": [],
   "source": [
    "urls = pd.read_csv('w_urls.csv')"
   ]
  },
  {
   "cell_type": "code",
   "execution_count": 69,
   "metadata": {},
   "outputs": [],
   "source": [
    "dfx = pd.merge(df, urls, on = 'name')"
   ]
  },
  {
   "cell_type": "code",
   "execution_count": 71,
   "metadata": {},
   "outputs": [],
   "source": [
    "dfx.to_csv('super.csv')"
   ]
  },
  {
   "cell_type": "code",
   "execution_count": 92,
   "metadata": {},
   "outputs": [],
   "source": [
    "arrayd = dtm_tf.toarray()\n",
    "user_array = vec_user.toarray()"
   ]
  },
  {
   "cell_type": "code",
   "execution_count": 97,
   "metadata": {},
   "outputs": [
    {
     "output_type": "execute_result",
     "data": {
      "text/plain": [
       "(1, 1119)"
      ]
     },
     "metadata": {},
     "execution_count": 97
    }
   ],
   "source": [
    "user_array.shape"
   ]
  }
 ]
}